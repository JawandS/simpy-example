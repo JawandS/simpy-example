{
 "cells": [
  {
   "cell_type": "markdown",
   "id": "abf3b772",
   "metadata": {},
   "source": [
    "### Dependencies\n"
   ]
  },
  {
   "cell_type": "code",
   "execution_count": 1,
   "id": "963b87b9",
   "metadata": {},
   "outputs": [],
   "source": [
    "import simpy\n",
    "import numpy as np\n",
    "import pandas as pd"
   ]
  },
  {
   "cell_type": "markdown",
   "id": "d4540e88",
   "metadata": {},
   "source": [
    "### Simulation Parameters\n"
   ]
  },
  {
   "cell_type": "code",
   "execution_count": 2,
   "id": "bd90b412",
   "metadata": {},
   "outputs": [],
   "source": [
    "NUM_AGENTS = 25               # Number of call center agents\n",
    "SIM_DURATION = 8 * 60         # Simulation runs for 8 hours (480 minutes)\n",
    "CALLS_PER_MINUTE = 3          # Constant number of incoming calls per minute\n",
    "MEAN_CALL_DURATION = 8        # Average call duration in minutes\n",
    "STD_CALL_DURATION = 5         # Standard deviation of call duration\n",
    "NUM_RUNS = 5                  # Number of simulation runs"
   ]
  },
  {
   "cell_type": "markdown",
   "id": "71a614c2",
   "metadata": {},
   "source": [
    "### Customer Process"
   ]
  },
  {
   "cell_type": "code",
   "execution_count": 3,
   "id": "b62ba38a",
   "metadata": {},
   "outputs": [],
   "source": [
    "def customer(env, agents, wait_times, call_durations):\n",
    "    \"\"\"\n",
    "    Simulates a single customer calling the center.\n",
    "\n",
    "    - Waits for an available agent.\n",
    "    - Records wait time and call duration.\n",
    "    \"\"\"\n",
    "    arrival = env.now\n",
    "    with agents.request() as request:\n",
    "        yield request\n",
    "        wait_time = env.now - arrival\n",
    "        wait_times.append(wait_time)\n",
    "\n",
    "        # Simulate the actual call duration\n",
    "        duration = max(1, np.random.normal(MEAN_CALL_DURATION, STD_CALL_DURATION))\n",
    "        call_durations.append(duration)\n",
    "        yield env.timeout(duration)"
   ]
  },
  {
   "cell_type": "markdown",
   "id": "9a6a055e",
   "metadata": {},
   "source": [
    "### Call Generator Process"
   ]
  },
  {
   "cell_type": "code",
   "execution_count": 4,
   "id": "8292846f",
   "metadata": {},
   "outputs": [],
   "source": [
    "def generate_calls(env, agents, wait_times, call_durations):\n",
    "    \"\"\"\n",
    "    Generates a fixed number of calls every minute.\n",
    "    \"\"\"\n",
    "    while env.now < SIM_DURATION:\n",
    "        for i in range(CALLS_PER_MINUTE):\n",
    "            env.process(customer(env, agents, wait_times, call_durations))\n",
    "        yield env.timeout(1)  # Wait 1 minute before next batch\n"
   ]
  },
  {
   "cell_type": "markdown",
   "id": "e9a65335",
   "metadata": {},
   "source": [
    "### Simulation Runner"
   ]
  },
  {
   "cell_type": "code",
   "execution_count": 5,
   "id": "1ab2c24a",
   "metadata": {},
   "outputs": [],
   "source": [
    "def run_simulation():\n",
    "    \"\"\"\n",
    "    Runs the call center simulation multiple times and collects performance metrics.\n",
    "    Returns a DataFrame with results.\n",
    "    \"\"\"\n",
    "    all_results = []\n",
    "\n",
    "    for run in range(1, NUM_RUNS + 1):\n",
    "        env = simpy.Environment()\n",
    "        agents = simpy.Resource(env, capacity=NUM_AGENTS)\n",
    "        wait_times = []\n",
    "        call_durations = []\n",
    "\n",
    "        env.process(generate_calls(env, agents, wait_times, call_durations))\n",
    "        env.run(until=SIM_DURATION)\n",
    "\n",
    "        # Store metrics for this run\n",
    "        all_results.append({\n",
    "            \"Run\": run,\n",
    "            \"Avg Wait Time (min)\": round(np.mean(wait_times), 2) if wait_times else 0,\n",
    "            \"Max Wait Time (min)\": round(max(wait_times), 2) if wait_times else 0,\n",
    "            \"Avg Call Duration (min)\": round(np.mean(call_durations), 2) if call_durations else 0,\n",
    "            \"Total Calls\": len(call_durations)\n",
    "        })\n",
    "\n",
    "    return pd.DataFrame(all_results)"
   ]
  },
  {
   "cell_type": "markdown",
   "id": "6bbcba53",
   "metadata": {},
   "source": [
    "### Execute Simulation"
   ]
  },
  {
   "cell_type": "code",
   "execution_count": 6,
   "id": "479ff9f2",
   "metadata": {},
   "outputs": [
    {
     "name": "stdout",
     "output_type": "stream",
     "text": [
      "\n",
      "Simulation Results (Fixed Call Rate):\n",
      "\n",
      " Run  Avg Wait Time (min)  Max Wait Time (min)  Avg Call Duration (min)  Total Calls\n",
      "   1                 1.44                 6.09                     8.10         1440\n",
      "   2                 0.93                 3.80                     8.14         1440\n",
      "   3                 0.56                 3.47                     8.03         1440\n",
      "   4                 0.69                 3.71                     8.08         1440\n",
      "   5                 0.95                 4.71                     8.02         1440\n"
     ]
    }
   ],
   "source": [
    "if __name__ == \"__main__\":\n",
    "    results_df = run_simulation()\n",
    "    print(\"\\nSimulation Results (Fixed Call Rate):\\n\")\n",
    "    print(results_df.to_string(index=False))"
   ]
  },
  {
   "cell_type": "code",
   "execution_count": null,
   "id": "b5598ab0",
   "metadata": {},
   "outputs": [],
   "source": []
  }
 ],
 "metadata": {
  "kernelspec": {
   "display_name": ".venv",
   "language": "python",
   "name": "python3"
  },
  "language_info": {
   "codemirror_mode": {
    "name": "ipython",
    "version": 3
   },
   "file_extension": ".py",
   "mimetype": "text/x-python",
   "name": "python",
   "nbconvert_exporter": "python",
   "pygments_lexer": "ipython3",
   "version": "3.12.3"
  }
 },
 "nbformat": 4,
 "nbformat_minor": 5
}
