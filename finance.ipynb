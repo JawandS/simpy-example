{
 "cells": [
  {
   "cell_type": "code",
   "execution_count": 3,
   "id": "c437c4d1",
   "metadata": {},
   "outputs": [],
   "source": [
    "# Dependencies\n",
    "import pandas as pd"
   ]
  },
  {
   "cell_type": "code",
   "execution_count": 38,
   "id": "6694cdf0",
   "metadata": {},
   "outputs": [
    {
     "data": {
      "text/plain": [
       "observation_date\n",
       "2020-04-27    2878.48\n",
       "2020-04-28    2863.39\n",
       "2020-04-29    2939.51\n",
       "2020-04-30    2912.43\n",
       "2020-05-01    2830.71\n",
       "               ...   \n",
       "2025-04-21    5158.20\n",
       "2025-04-22    5287.76\n",
       "2025-04-23    5375.86\n",
       "2025-04-24    5484.77\n",
       "2025-04-25    5525.21\n",
       "Name: SP500, Length: 1257, dtype: float64"
      ]
     },
     "execution_count": 38,
     "metadata": {},
     "output_type": "execute_result"
    }
   ],
   "source": [
    "# Load S&P 500 data\n",
    "data = pd.read_csv('SP500.csv', index_col=0, parse_dates=True)\n",
    "data = pd.Series(data['SP500'], index=data.index)\n",
    "data"
   ]
  },
  {
   "cell_type": "markdown",
   "id": "ca94493c",
   "metadata": {},
   "source": [
    "## Buy at the start"
   ]
  },
  {
   "cell_type": "code",
   "execution_count": 40,
   "id": "d391918f",
   "metadata": {},
   "outputs": [
    {
     "name": "stdout",
     "output_type": "stream",
     "text": [
      "Cost: $287,848.00\n",
      "Profit: $264,673.00, 91.95%\n"
     ]
    }
   ],
   "source": [
    "# Invest a shares per day\n",
    "\n",
    "shares = 100\n",
    "total_cost = shares * data.iloc[0]\n",
    "total_value = shares * data.iloc[-1]\n",
    "\n",
    "# Calculate the profit\n",
    "profit = total_value - total_cost\n",
    "\n",
    "# Print the results\n",
    "print(f\"Cost: ${total_cost:,.2f}\")\n",
    "print(f\"Profit: ${profit:,.2f}, {profit / total_cost:.2%}\")"
   ]
  },
  {
   "cell_type": "markdown",
   "id": "44bcfdfe",
   "metadata": {},
   "source": [
    "## Invest a share per day"
   ]
  },
  {
   "cell_type": "code",
   "execution_count": 43,
   "id": "824c89c3",
   "metadata": {},
   "outputs": [
    {
     "name": "stdout",
     "output_type": "stream",
     "text": [
      "Cost: $5,572,509.25\n",
      "Profit: $1,372,679.72, 24.63%\n"
     ]
    }
   ],
   "source": [
    "# Invest a shares per day\n",
    "\n",
    "shares_per_day = 1\n",
    "total_shares = 0\n",
    "total_cost = 0\n",
    "\n",
    "for day in range(len(data)):\n",
    "    # Execute the buy order at the closing price of the day\n",
    "    closing_price = data.iloc[day]\n",
    "    total_shares += shares_per_day\n",
    "    total_cost += shares_per_day * closing_price\n",
    "\n",
    "# Calculate the average cost per share\n",
    "average_cost = total_cost / total_shares\n",
    "\n",
    "# Calculate the total value of the shares at the latest closing price\n",
    "latest_price = data.iloc[-1]\n",
    "total_value = total_shares * latest_price\n",
    "\n",
    "# Calculate the profit\n",
    "profit = total_value - total_cost\n",
    "\n",
    "# Print the results\n",
    "print(f\"Cost: ${total_cost:,.2f}\")\n",
    "print(f\"Profit: ${profit:,.2f}, {profit / total_cost:.2%}\")"
   ]
  },
  {
   "cell_type": "markdown",
   "id": "5bbd5580",
   "metadata": {},
   "source": [
    "## Invest when the market goes down"
   ]
  },
  {
   "cell_type": "code",
   "execution_count": 46,
   "id": "b3cefa6e",
   "metadata": {},
   "outputs": [
    {
     "name": "stdout",
     "output_type": "stream",
     "text": [
      "Cost: $2,550,218.23\n",
      "Profit: $648,878.36, 25.44%\n"
     ]
    }
   ],
   "source": [
    "# Invest 10 shares when the market goes down\n",
    "shares_per_day = 1\n",
    "total_shares = 0\n",
    "total_cost = 0\n",
    "\n",
    "for market_day in range(1, len(data.index)):\n",
    "    # Buy 10 shares at the day's closing price\n",
    "    closing_price = data.iloc[market_day]\n",
    "    if closing_price < data.iloc[market_day - 1]:\n",
    "        total_shares += shares_per_day\n",
    "        total_cost += shares_per_day * closing_price\n",
    "\n",
    "# Calculate the average cost per share\n",
    "average_cost = total_cost / total_shares\n",
    "\n",
    "# Calculate the total value of the shares at the latest closing price\n",
    "latest_price = data.iloc[-1]\n",
    "total_value = total_shares * latest_price\n",
    "\n",
    "# Calculate the profit\n",
    "profit = total_value - total_cost\n",
    "\n",
    "# Print the results\n",
    "print(f\"Cost: ${total_cost:,.2f}\")\n",
    "print(f\"Profit: ${profit:,.2f}, {profit / total_cost:.2%}\")"
   ]
  },
  {
   "cell_type": "markdown",
   "id": "879a8e07",
   "metadata": {},
   "source": [
    "## Invest when the market goes down by more than 2%"
   ]
  },
  {
   "cell_type": "code",
   "execution_count": 49,
   "id": "5b868f9c",
   "metadata": {},
   "outputs": [
    {
     "name": "stdout",
     "output_type": "stream",
     "text": [
      "Cost: $197,698.23\n",
      "Profit: $67,511.85, 34.15%\n"
     ]
    }
   ],
   "source": [
    "# Invest shares when the market goes down by more than 2%\n",
    "shares_per_day = 1\n",
    "total_shares = 0\n",
    "total_cost = 0\n",
    "\n",
    "for market_day in range(1, len(data.index)):\n",
    "    # Buy 10 shares at the day's closing price\n",
    "    closing_price = data.iloc[market_day]\n",
    "    if closing_price < data.iloc[market_day - 1] * 0.98:\n",
    "        total_shares += shares_per_day\n",
    "        total_cost += shares_per_day * closing_price\n",
    "\n",
    "# Calculate the average cost per share\n",
    "average_cost = total_cost / total_shares\n",
    "\n",
    "# Calculate the total value of the shares at the latest closing price\n",
    "latest_price = data.iloc[-1]\n",
    "total_value = total_shares * latest_price\n",
    "\n",
    "# Calculate the profit\n",
    "profit = total_value - total_cost\n",
    "\n",
    "# Print the results\n",
    "print(f\"Cost: ${total_cost:,.2f}\")\n",
    "print(f\"Profit: ${profit:,.2f}, {profit / total_cost:.2%}\")"
   ]
  },
  {
   "cell_type": "markdown",
   "id": "b105f003",
   "metadata": {},
   "source": [
    "## Invest when the market goes down by more than 5%"
   ]
  },
  {
   "cell_type": "code",
   "execution_count": 50,
   "id": "a5dca398",
   "metadata": {},
   "outputs": [
    {
     "name": "stdout",
     "output_type": "stream",
     "text": [
      "Cost: $80,761.80\n",
      "Profit: $29,742.40, 36.83%\n"
     ]
    }
   ],
   "source": [
    "# Invest when the market goes down by more than 5%\n",
    "shares_per_day = 10\n",
    "total_shares = 0\n",
    "total_cost = 0\n",
    "\n",
    "for market_day in range(1, len(data.index)):\n",
    "    # Buy 10 shares at the day's closing price\n",
    "    closing_price = data.iloc[market_day]\n",
    "    if closing_price < data.iloc[market_day - 1] * 0.95:\n",
    "        total_shares += shares_per_day\n",
    "        total_cost += shares_per_day * closing_price\n",
    "\n",
    "# Calculate the average cost per share\n",
    "average_cost = total_cost / total_shares\n",
    "\n",
    "# Calculate the total value of the shares at the latest closing price\n",
    "latest_price = data.iloc[-1]\n",
    "total_value = total_shares * latest_price\n",
    "\n",
    "# Calculate the profit\n",
    "profit = total_value - total_cost\n",
    "\n",
    "# Print the results\n",
    "print(f\"Cost: ${total_cost:,.2f}\")\n",
    "print(f\"Profit: ${profit:,.2f}, {profit / total_cost:.2%}\")"
   ]
  }
 ],
 "metadata": {
  "kernelspec": {
   "display_name": ".venv",
   "language": "python",
   "name": "python3"
  },
  "language_info": {
   "codemirror_mode": {
    "name": "ipython",
    "version": 3
   },
   "file_extension": ".py",
   "mimetype": "text/x-python",
   "name": "python",
   "nbconvert_exporter": "python",
   "pygments_lexer": "ipython3",
   "version": "3.12.3"
  }
 },
 "nbformat": 4,
 "nbformat_minor": 5
}
