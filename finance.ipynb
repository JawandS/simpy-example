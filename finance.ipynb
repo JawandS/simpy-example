{
 "cells": [
  {
   "cell_type": "code",
   "execution_count": 3,
   "id": "c437c4d1",
   "metadata": {},
   "outputs": [],
   "source": [
    "# Dependencies\n",
    "import pandas as pd"
   ]
  },
  {
   "cell_type": "code",
   "execution_count": 6,
   "id": "6694cdf0",
   "metadata": {},
   "outputs": [
    {
     "data": {
      "text/html": [
       "<div>\n",
       "<style scoped>\n",
       "    .dataframe tbody tr th:only-of-type {\n",
       "        vertical-align: middle;\n",
       "    }\n",
       "\n",
       "    .dataframe tbody tr th {\n",
       "        vertical-align: top;\n",
       "    }\n",
       "\n",
       "    .dataframe thead th {\n",
       "        text-align: right;\n",
       "    }\n",
       "</style>\n",
       "<table border=\"1\" class=\"dataframe\">\n",
       "  <thead>\n",
       "    <tr style=\"text-align: right;\">\n",
       "      <th></th>\n",
       "      <th>SP500</th>\n",
       "    </tr>\n",
       "    <tr>\n",
       "      <th>observation_date</th>\n",
       "      <th></th>\n",
       "    </tr>\n",
       "  </thead>\n",
       "  <tbody>\n",
       "    <tr>\n",
       "      <th>2020-04-27</th>\n",
       "      <td>2878.48</td>\n",
       "    </tr>\n",
       "    <tr>\n",
       "      <th>2020-04-28</th>\n",
       "      <td>2863.39</td>\n",
       "    </tr>\n",
       "    <tr>\n",
       "      <th>2020-04-29</th>\n",
       "      <td>2939.51</td>\n",
       "    </tr>\n",
       "    <tr>\n",
       "      <th>2020-04-30</th>\n",
       "      <td>2912.43</td>\n",
       "    </tr>\n",
       "    <tr>\n",
       "      <th>2020-05-01</th>\n",
       "      <td>2830.71</td>\n",
       "    </tr>\n",
       "    <tr>\n",
       "      <th>...</th>\n",
       "      <td>...</td>\n",
       "    </tr>\n",
       "    <tr>\n",
       "      <th>2025-04-21</th>\n",
       "      <td>5158.20</td>\n",
       "    </tr>\n",
       "    <tr>\n",
       "      <th>2025-04-22</th>\n",
       "      <td>5287.76</td>\n",
       "    </tr>\n",
       "    <tr>\n",
       "      <th>2025-04-23</th>\n",
       "      <td>5375.86</td>\n",
       "    </tr>\n",
       "    <tr>\n",
       "      <th>2025-04-24</th>\n",
       "      <td>5484.77</td>\n",
       "    </tr>\n",
       "    <tr>\n",
       "      <th>2025-04-25</th>\n",
       "      <td>5525.21</td>\n",
       "    </tr>\n",
       "  </tbody>\n",
       "</table>\n",
       "<p>1257 rows × 1 columns</p>\n",
       "</div>"
      ],
      "text/plain": [
       "                    SP500\n",
       "observation_date         \n",
       "2020-04-27        2878.48\n",
       "2020-04-28        2863.39\n",
       "2020-04-29        2939.51\n",
       "2020-04-30        2912.43\n",
       "2020-05-01        2830.71\n",
       "...                   ...\n",
       "2025-04-21        5158.20\n",
       "2025-04-22        5287.76\n",
       "2025-04-23        5375.86\n",
       "2025-04-24        5484.77\n",
       "2025-04-25        5525.21\n",
       "\n",
       "[1257 rows x 1 columns]"
      ]
     },
     "execution_count": 6,
     "metadata": {},
     "output_type": "execute_result"
    }
   ],
   "source": [
    "# Load S&P 500 data\n",
    "data = pd.read_csv('SP500.csv', index_col=0, parse_dates=True)\n",
    "data"
   ]
  },
  {
   "cell_type": "markdown",
   "id": "44bcfdfe",
   "metadata": {},
   "source": [
    "## Invest 10 shares per day"
   ]
  },
  {
   "cell_type": "code",
   "execution_count": 23,
   "id": "824c89c3",
   "metadata": {},
   "outputs": [
    {
     "name": "stdout",
     "output_type": "stream",
     "text": [
      "Cost: $55,725,092.50\n",
      "Profit: $13,726,797.20, 24.63%\n"
     ]
    }
   ],
   "source": [
    "# Invest 10 shares per day\n",
    "\n",
    "shares_per_day = 10\n",
    "total_shares = 0\n",
    "total_cost = 0\n",
    "\n",
    "for day in data.index:\n",
    "    # Buy 10 shares at the day's closing price\n",
    "    closing_price = data.loc[day].iloc[-1]\n",
    "    total_shares += shares_per_day\n",
    "    total_cost += shares_per_day * closing_price\n",
    "\n",
    "# Calculate the average cost per share\n",
    "average_cost = total_cost / total_shares\n",
    "\n",
    "# Calculate the total value of the shares at the latest closing price\n",
    "latest_price = data.iloc[-1]\n",
    "total_value = (total_shares * latest_price).iloc[-1]\n",
    "\n",
    "# Calculate the profit\n",
    "profit = total_value - total_cost\n",
    "\n",
    "# Print the results\n",
    "print(f\"Cost: ${total_cost:,.2f}\")\n",
    "print(f\"Profit: ${profit:,.2f}, {profit / total_cost:.2%}\")"
   ]
  },
  {
   "cell_type": "code",
   "execution_count": null,
   "id": "b3cefa6e",
   "metadata": {},
   "outputs": [],
   "source": []
  }
 ],
 "metadata": {
  "kernelspec": {
   "display_name": ".venv",
   "language": "python",
   "name": "python3"
  },
  "language_info": {
   "codemirror_mode": {
    "name": "ipython",
    "version": 3
   },
   "file_extension": ".py",
   "mimetype": "text/x-python",
   "name": "python",
   "nbconvert_exporter": "python",
   "pygments_lexer": "ipython3",
   "version": "3.12.3"
  }
 },
 "nbformat": 4,
 "nbformat_minor": 5
}
